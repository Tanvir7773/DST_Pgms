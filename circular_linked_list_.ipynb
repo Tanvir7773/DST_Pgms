{
  "nbformat": 4,
  "nbformat_minor": 0,
  "metadata": {
    "colab": {
      "provenance": [],
      "authorship_tag": "ABX9TyN1PTgewT63Pt3KXUvbYKty",
      "include_colab_link": true
    },
    "kernelspec": {
      "name": "python3",
      "display_name": "Python 3"
    },
    "language_info": {
      "name": "python"
    }
  },
  "cells": [
    {
      "cell_type": "markdown",
      "metadata": {
        "id": "view-in-github",
        "colab_type": "text"
      },
      "source": [
        "<a href=\"https://colab.research.google.com/github/Tanvir7773/DST_Pgms/blob/main/circular_linked_list_.ipynb\" target=\"_parent\"><img src=\"https://colab.research.google.com/assets/colab-badge.svg\" alt=\"Open In Colab\"/></a>"
      ]
    },
    {
      "cell_type": "code",
      "execution_count": 1,
      "metadata": {
        "id": "IQuXv92jKomL",
        "colab": {
          "base_uri": "https://localhost:8080/"
        },
        "outputId": "f7af3463-9ca1-4d95-caec-0406f9be5d81"
      },
      "outputs": [
        {
          "output_type": "stream",
          "name": "stdout",
          "text": [
            "List Before Deletion: \n",
            "10 8 7 5 2 \n",
            "List After Deletion: \n",
            "10 8 5 2 \n"
          ]
        }
      ],
      "source": [
        "class Node:\n",
        "\tdef __init__(self, data):\n",
        "\t\tself.data = data\n",
        "\t\tself.next = None\n",
        "\n",
        "\n",
        "def push(head, data):\n",
        "\tnewP = Node(data)\n",
        "\tnewP.next = head\n",
        "\tif head != None:\n",
        "\t\ttemp = head\n",
        "\t\twhile (temp.next != head):\n",
        "\t\t\ttemp = temp.next\n",
        "\t\ttemp.next = newP\n",
        "\telse:\n",
        "\t\tnewP.next = newP\n",
        "\thead = newP\n",
        "\treturn head\n",
        "\n",
        "\n",
        "def printList(head):\n",
        "\tif head == None:\n",
        "\t\tprint(\"List is Empty\")\n",
        "\t\treturn\n",
        "\ttemp = head.next\n",
        "\tprint(head.data, end=' ')\n",
        "\tif (head != None):\n",
        "\t\twhile (temp != head):\n",
        "\t\t\tprint(temp.data, end=\" \")\n",
        "\t\t\ttemp = temp.next\n",
        "\tprint()\n",
        "\n",
        "\n",
        "def deleteNode(head, key):\n",
        "\tif (head == None):\n",
        "\t\treturn\n",
        "\n",
        "\tif (head.data == key and head.next == head):\n",
        "\t\thead = None\n",
        "\t\treturn\n",
        "\n",
        "\tlast = head\n",
        "\n",
        "\tif (head.data == key):\n",
        "\t\twhile (last.next != head):\n",
        "\t\t\tlast = last.next\n",
        "\n",
        "\t\tlast.next = head.next\n",
        "\t\thead = last.next\n",
        "\t\treturn\n",
        "\twhile (last.next != head and last.next.data != key):\n",
        "\t\tlast = last.next\n",
        "\tif (last.next.data == key):\n",
        "\t\td = last.next\n",
        "\t\tlast.next = d.next\n",
        "\t\td = None\n",
        "\telse:\n",
        "\t\tprint(\"Given node is not found in the list!!!\")\n",
        "\n",
        "head = None\n",
        "\n",
        "head = push(head, 2)\n",
        "head = push(head, 5)\n",
        "head = push(head, 7)\n",
        "head = push(head, 8)\n",
        "head = push(head, 10)\n",
        "\n",
        "print(\"List Before Deletion: \")\n",
        "printList(head)\n",
        "\n",
        "deleteNode(head, 7)\n",
        "print(\"List After Deletion: \")\n",
        "printList(head)\n"
      ]
    }
  ]
}