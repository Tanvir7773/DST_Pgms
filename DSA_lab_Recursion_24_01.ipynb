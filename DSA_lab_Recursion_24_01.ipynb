{
  "nbformat": 4,
  "nbformat_minor": 0,
  "metadata": {
    "colab": {
      "provenance": [],
      "authorship_tag": "ABX9TyOxQ5bbCHtKUZYIAOEWV6dG",
      "include_colab_link": true
    },
    "kernelspec": {
      "name": "python3",
      "display_name": "Python 3"
    },
    "language_info": {
      "name": "python"
    }
  },
  "cells": [
    {
      "cell_type": "markdown",
      "metadata": {
        "id": "view-in-github",
        "colab_type": "text"
      },
      "source": [
        "<a href=\"https://colab.research.google.com/github/Tanvir7773/DST_Pgms/blob/main/DSA_lab_Recursion_24_01.ipynb\" target=\"_parent\"><img src=\"https://colab.research.google.com/assets/colab-badge.svg\" alt=\"Open In Colab\"/></a>"
      ]
    },
    {
      "cell_type": "code",
      "execution_count": null,
      "metadata": {
        "colab": {
          "base_uri": "https://localhost:8080/"
        },
        "id": "0y9sNEdhjzy7",
        "outputId": "c6dfc237-975d-4e11-9ef1-6a4f9bc8aebf"
      },
      "outputs": [
        {
          "output_type": "stream",
          "name": "stdout",
          "text": [
            "enter the value : 10\n",
            "factorial of 10 : 3628800\n"
          ]
        }
      ],
      "source": [
        "#factorial pgm\n",
        "def factorial(n):\n",
        "  if (n==0 or n==1):\n",
        "    return 1\n",
        "  else:\n",
        "    return n*factorial(n-1)\n",
        "n=int(input(\"enter the value : \"))\n",
        "print(\"factorial of\",n,\":\",factorial(n))"
      ]
    },
    {
      "cell_type": "code",
      "source": [
        "#fibonacci series\n",
        "def fibonacci(n):\n",
        "  if n<=0:\n",
        "    print(\"incorrect input\")\n",
        "  elif n==1:\n",
        "    return 0\n",
        "  elif n==2:\n",
        "    return 1\n",
        "  else:\n",
        "    return fibonacci(n-1)+fibonacci(n-2)\n",
        "n=int(input(\"enter the value of n :\"))\n",
        "print(fibonacci(n))\n"
      ],
      "metadata": {
        "colab": {
          "base_uri": "https://localhost:8080/"
        },
        "id": "dWkI9tIboZLW",
        "outputId": "51175d63-c2ac-4336-af04-1f88a78cd374"
      },
      "execution_count": null,
      "outputs": [
        {
          "output_type": "stream",
          "name": "stdout",
          "text": [
            "enter the value of n :10\n",
            "34\n"
          ]
        }
      ]
    }
  ]
}