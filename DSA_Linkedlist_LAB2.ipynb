{
  "nbformat": 4,
  "nbformat_minor": 0,
  "metadata": {
    "colab": {
      "provenance": [],
      "authorship_tag": "ABX9TyNq8yZZXJsciBMLvaksq7du",
      "include_colab_link": true
    },
    "kernelspec": {
      "name": "python3",
      "display_name": "Python 3"
    },
    "language_info": {
      "name": "python"
    }
  },
  "cells": [
    {
      "cell_type": "markdown",
      "metadata": {
        "id": "view-in-github",
        "colab_type": "text"
      },
      "source": [
        "<a href=\"https://colab.research.google.com/github/Tanvir7773/DST_Pgms/blob/main/DSA_Linkedlist_LAB2.ipynb\" target=\"_parent\"><img src=\"https://colab.research.google.com/assets/colab-badge.svg\" alt=\"Open In Colab\"/></a>"
      ]
    },
    {
      "cell_type": "code",
      "execution_count": null,
      "metadata": {
        "colab": {
          "base_uri": "https://localhost:8080/"
        },
        "id": "slPbq6IEWMfC",
        "outputId": "a04556ae-a0c5-4b99-f183-514a0d5879ac"
      },
      "outputs": [
        {
          "output_type": "stream",
          "name": "stdout",
          "text": [
            "10\n",
            "None\n",
            "20\n",
            "20\n",
            "20 --> 10 --> 30 --> 50 --> 40 --> \n",
            "\n",
            "10 --> 50 --> "
          ]
        }
      ],
      "source": [
        "\n",
        "class Node:\n",
        "  def __init__(self,data):\n",
        "    self.data=data\n",
        "    self.ref=None\n",
        "Node1=Node(10)\n",
        "print(Node1.data)\n",
        "print(Node1.ref)\n",
        "Node2=Node(20)\n",
        "Node1.next=Node2\n",
        "print(Node2.data)\n",
        "print(Node1.next.data)\n",
        "class linkedlist:\n",
        "  def __init__(self):\n",
        "    self.head=None\n",
        "  def print_LL(self):\n",
        "    if self.head is None:\n",
        "      print(\"linkedlist is empty..\")\n",
        "    else:\n",
        "      a=self.head\n",
        "      while a is not None:\n",
        "        print(a.data,\"-->\",end=\" \")\n",
        "        a=a.ref\n",
        "  def add_begin(self,data):\n",
        "   new_node=Node(data)\n",
        "   new_node.ref=self.head\n",
        "   self.head=new_node\n",
        "  def add_end(self,data):\n",
        "    new_node=Node(data)\n",
        "    if self.head is None:\n",
        "      self.head=new_node\n",
        "    else:\n",
        "      a=self.head\n",
        "      while a.ref is not None:\n",
        "        a=a.ref\n",
        "      a.ref=new_node\n",
        "  def add_after(self,data,x):\n",
        "    n=self.head\n",
        "    while n is not None:\n",
        "      if x == n.data:\n",
        "        break\n",
        "      n=n.ref\n",
        "    if n is None:\n",
        "      print(\"node is not present in LL.\")\n",
        "    else:\n",
        "      new_node=Node(data)\n",
        "      new_node.ref=n.ref\n",
        "      n.ref=new_node\n",
        "  def delete_begin(self):\n",
        "    if self.head is None:\n",
        "      print(\"LL is Empty so we can delete node.\")\n",
        "    else:\n",
        "      self.head=self.head.ref\n",
        "  def delete_end(self):\n",
        "    if self.head is None:\n",
        "      print(\"LL is empty so we cant delete nodes\")\n",
        "    else:\n",
        "       n=self.head\n",
        "       while n.ref.ref is not None:\n",
        "        n=n.ref\n",
        "       n.ref=None\n",
        "  def delete(self,x):\n",
        "    if self.head is None:\n",
        "      print(\"LL is EMpty\")\n",
        "    else:\n",
        "      n=self.head\n",
        "      while n.ref.data is not x :\n",
        "        n=n.ref\n",
        "      n.ref=n.ref.ref\n",
        "# LL1=linkedlist()\n",
        "# LL1.print_LL()\n",
        "# LL2=linkedlist()\n",
        "# LL2.head=Node(20)\n",
        "# LL2.print_LL()\n",
        "\n",
        "LL1=linkedlist()\n",
        "LL1.add_begin(10)\n",
        "LL1.add_begin(20)\n",
        "LL1.add_end(30)\n",
        "LL1.add_end(40)\n",
        "LL1.add_after(50,30)\n",
        "LL1.print_LL()\n",
        "print(\"\\n\")\n",
        "LL1.delete_begin()\n",
        "LL1.delete_end()\n",
        "LL1.delete(30)\n",
        "LL1.print_LL()\n"
      ]
    }
  ]
}