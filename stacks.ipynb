{
  "nbformat": 4,
  "nbformat_minor": 0,
  "metadata": {
    "colab": {
      "provenance": [],
      "authorship_tag": "ABX9TyObFWL/jOq1vJBx6dpI+ChL",
      "include_colab_link": true
    },
    "kernelspec": {
      "name": "python3",
      "display_name": "Python 3"
    },
    "language_info": {
      "name": "python"
    }
  },
  "cells": [
    {
      "cell_type": "markdown",
      "metadata": {
        "id": "view-in-github",
        "colab_type": "text"
      },
      "source": [
        "<a href=\"https://colab.research.google.com/github/Tanvir7773/DST_Pgms/blob/main/stacks.ipynb\" target=\"_parent\"><img src=\"https://colab.research.google.com/assets/colab-badge.svg\" alt=\"Open In Colab\"/></a>"
      ]
    },
    {
      "cell_type": "code",
      "execution_count": null,
      "metadata": {
        "id": "fU9l-WpyM9Db"
      },
      "outputs": [],
      "source": [
        "class Stack:\n",
        "  def __init__(self):\n",
        "    self.list1 = []\n",
        "  def push(self,data):\n",
        "    self.list1.append(data)\n",
        "  def pop_back(self):\n",
        "    self.list1.pop()\n",
        "  def top(self):\n",
        "    return self.list1[len(self.list1)-1]\n",
        "s = Stack()\n",
        "s.push(10)\n",
        "s.push(20)\n",
        "s.push(30)\n",
        "s.push(40)\n",
        "display(s.top())\n",
        "s.pop_back()\n",
        "display(s.top())"
      ]
    },
    {
      "cell_type": "code",
      "source": [
        "Stack = []\n",
        "size = int(input(\"Enter the size : \"))\n",
        "def push():\n",
        "  data = int(input(\"Enter the data : \"))\n",
        "  if(len(Stack) == size):\n",
        "    print(\"Stack Overflow\")\n",
        "  else:\n",
        "    Stack.append(data)\n",
        "def pop():\n",
        "  if(len(Stack) == 0):\n",
        "    print(\"Stack Unserflow\")\n",
        "  else:\n",
        "    Stack.pop()\n",
        "push()\n",
        "push()\n",
        "push()\n",
        "push()\n",
        "push()\n",
        "print(Stack)\n",
        "pop()\n",
        "print(Stack)\n",
        "def top():\n",
        "  if len(Stack) == 0:\n",
        "    print(\"Stack is Empty\")\n",
        "  else:\n",
        "    return Stack[len(Stack)-1]\n",
        "display(top())"
      ],
      "metadata": {
        "id": "GkENC7BmNFkp"
      },
      "execution_count": null,
      "outputs": []
    }
  ]
}